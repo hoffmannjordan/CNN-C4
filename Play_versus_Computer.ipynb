{
 "cells": [
  {
   "cell_type": "code",
   "execution_count": 1,
   "metadata": {
    "collapsed": false
   },
   "outputs": [
    {
     "name": "stderr",
     "output_type": "stream",
     "text": [
      "Using TensorFlow backend.\n"
     ]
    }
   ],
   "source": [
    "import numpy as np\n",
    "import matplotlib.pyplot as plt\n",
    "%matplotlib inline \n",
    "import keras\n",
    "from keras.datasets import mnist\n",
    "from keras.models import Sequential\n",
    "from keras.layers import Dense, Dropout, Flatten\n",
    "from keras.layers import Conv2D, MaxPooling2D\n",
    "from keras import backend as K"
   ]
  },
  {
   "cell_type": "code",
   "execution_count": 2,
   "metadata": {
    "collapsed": true
   },
   "outputs": [],
   "source": [
    "from keras.models import load_model"
   ]
  },
  {
   "cell_type": "code",
   "execution_count": 3,
   "metadata": {
    "collapsed": true
   },
   "outputs": [],
   "source": [
    "model = load_model('/home/jordan/C4.h5')"
   ]
  },
  {
   "cell_type": "code",
   "execution_count": 14,
   "metadata": {
    "collapsed": true
   },
   "outputs": [],
   "source": [
    "from itertools import groupby, chain\n",
    "\n",
    "NONE = 0\n",
    "RED = 1\n",
    "YELLOW = -1\n",
    "\n",
    "def diagonalsPos (matrix, cols, rows):\n",
    "    \"\"\"Get positive diagonals, going from bottom-left to top-right.\"\"\"\n",
    "    for di in ([(j, i - j) for j in range(cols)] for i in range(cols + rows -1)):\n",
    "        yield [matrix[i][j] for i, j in di if i >= 0 and j >= 0 and i < cols and j < rows]\n",
    "\n",
    "def diagonalsNeg (matrix, cols, rows):\n",
    "    \"\"\"Get negative diagonals, going from top-left to bottom-right.\"\"\"\n",
    "    for di in ([(j, i - cols + j + 1) for j in range(cols)] for i in range(cols + rows - 1)):\n",
    "        yield [matrix[i][j] for i, j in di if i >= 0 and j >= 0 and i < cols and j < rows]\n",
    "\n",
    "class Game:\n",
    "    def __init__ (self, cols = 7, rows = 6, requiredToWin = 4):\n",
    "        \"\"\"Create a new game.\"\"\"\n",
    "        self.cols = cols\n",
    "        self.rows = rows\n",
    "        self.win = requiredToWin\n",
    "        self.board = [[NONE] * rows for _ in range(cols)]\n",
    "\n",
    "    def insert (self, column, color):\n",
    "        \"\"\"Insert the color in the given column.\"\"\"\n",
    "        c = self.board[column]\n",
    "        if c[0] != NONE:\n",
    "            raise Exception('Column is full')\n",
    "        i = -1\n",
    "        while c[i] != NONE:\n",
    "            i -= 1\n",
    "        c[i] = color\n",
    "        #self.checkForWin()\n",
    "        dq,w = self.checkForWin()\n",
    "        if dq == 'done':\n",
    "            #print 'GAME OVER'            \n",
    "            return 'end',w\n",
    "        else:           \n",
    "            return 'nd',-10    \n",
    "\n",
    "    def checkForWin (self):\n",
    "        \"\"\"Check the current board for a winner.\"\"\"\n",
    "        w = self.getWinner()\n",
    "        if w:\n",
    "            #self.printBoard()\n",
    "            #return w\n",
    "            #self.printBoard()\n",
    "            #raise Exception(str(w) + ' won!')\n",
    "            return 'done',w\n",
    "        else:\n",
    "            return 'nd',-10\n",
    "\n",
    "    def getWinner (self):\n",
    "        \"\"\"Get the winner on the current board.\"\"\"\n",
    "        lines = (\n",
    "            self.board, # columns\n",
    "            zip(*self.board), # rows\n",
    "            diagonalsPos(self.board, self.cols, self.rows), # positive diagonals\n",
    "            diagonalsNeg(self.board, self.cols, self.rows) # negative diagonals\n",
    "        )\n",
    "\n",
    "        for line in chain(*lines):\n",
    "            for color, group in groupby(line):\n",
    "                if color != NONE and len(list(group)) >= self.win:\n",
    "                    return color\n",
    "\n",
    "    def printBoard (self):\n",
    "        \"\"\"Print the board.\"\"\"\n",
    "        #print('  '.join(map(str, range(self.cols))))\n",
    "        for y in range(self.rows):\n",
    "            print('  '.join(str(self.board[x][y]) for x in range(self.cols)))\n",
    "        #print()"
   ]
  },
  {
   "cell_type": "code",
   "execution_count": 185,
   "metadata": {
    "collapsed": true
   },
   "outputs": [],
   "source": [
    "g = Game()\n",
    "turn = RED"
   ]
  },
  {
   "cell_type": "markdown",
   "metadata": {},
   "source": [
    "# Game"
   ]
  },
  {
   "cell_type": "code",
   "execution_count": 341,
   "metadata": {
    "collapsed": false
   },
   "outputs": [
    {
     "name": "stdout",
     "output_type": "stream",
     "text": [
      "0  0  0  0  0  1  0\n",
      "1  0  -1  1  0  -1  -1\n",
      "-1  0  1  -1  0  -1  1\n",
      "1  0  -1  -1  0  -1  -1\n",
      "1  0  1  1  0  1  1\n",
      "1  0  -1  1  0  -1  -1\n"
     ]
    }
   ],
   "source": [
    "g.printBoard()"
   ]
  },
  {
   "cell_type": "code",
   "execution_count": 342,
   "metadata": {
    "collapsed": true
   },
   "outputs": [],
   "source": [
    "bc = np.copy(g.board)\n",
    "boards = []\n",
    "locs = np.zeros(7)\n",
    "for i in range(7):\n",
    "    flag = True\n",
    "    g.board = np.copy(bc)\n",
    "    board_tmp = np.transpose(g.board)\n",
    "    locations_0 = len(np.where(board_tmp == 0)[0])\n",
    "    top_0 = board_tmp[:,i][0]       \n",
    "    if top_0 != 0:\n",
    "        flag = False\n",
    "    if locations_0 == 0:\n",
    "        flag = False   \n",
    "    if flag == True:\n",
    "        status,winner = g.insert(int(i), turn)\n",
    "        boards.append(np.transpose([g.board]))\n",
    "        locs[i] = 1\n",
    "    if flag == False: \n",
    "        boards.append(np.zeros((6,7,1)))"
   ]
  },
  {
   "cell_type": "code",
   "execution_count": 343,
   "metadata": {
    "collapsed": true
   },
   "outputs": [],
   "source": [
    "predicted = model.predict(np.array(boards)).flatten()"
   ]
  },
  {
   "cell_type": "code",
   "execution_count": 344,
   "metadata": {
    "collapsed": false
   },
   "outputs": [
    {
     "data": {
      "text/plain": [
       "array([0.5829842 , 0.5927363 , 0.5115231 , 0.6258294 , 0.53786623,\n",
       "       0.58839303, 0.6188033 ], dtype=float32)"
      ]
     },
     "execution_count": 344,
     "metadata": {},
     "output_type": "execute_result"
    }
   ],
   "source": [
    "predicted"
   ]
  },
  {
   "cell_type": "code",
   "execution_count": 345,
   "metadata": {
    "collapsed": true
   },
   "outputs": [],
   "source": [
    "g.board = np.copy(bc)"
   ]
  },
  {
   "cell_type": "code",
   "execution_count": 346,
   "metadata": {
    "collapsed": false
   },
   "outputs": [
    {
     "name": "stdout",
     "output_type": "stream",
     "text": [
      "0  0  0  0  0  1  0\n",
      "1  0  -1  1  0  -1  -1\n",
      "-1  0  1  -1  0  -1  1\n",
      "1  0  -1  -1  0  -1  -1\n",
      "1  0  1  1  0  1  1\n",
      "1  0  -1  1  0  -1  -1\n"
     ]
    }
   ],
   "source": [
    "g.printBoard()"
   ]
  },
  {
   "cell_type": "code",
   "execution_count": 347,
   "metadata": {
    "collapsed": false
   },
   "outputs": [],
   "source": [
    "row = np.argmax(predicted)"
   ]
  },
  {
   "cell_type": "code",
   "execution_count": 348,
   "metadata": {
    "collapsed": false
   },
   "outputs": [
    {
     "data": {
      "text/plain": [
       "('nd', -10)"
      ]
     },
     "execution_count": 348,
     "metadata": {},
     "output_type": "execute_result"
    }
   ],
   "source": [
    "g.insert(int(row), turn)"
   ]
  },
  {
   "cell_type": "code",
   "execution_count": 349,
   "metadata": {
    "collapsed": false
   },
   "outputs": [
    {
     "name": "stdout",
     "output_type": "stream",
     "text": [
      "0  0  0  1  0  1  0\n",
      "1  0  -1  1  0  -1  -1\n",
      "-1  0  1  -1  0  -1  1\n",
      "1  0  -1  -1  0  -1  -1\n",
      "1  0  1  1  0  1  1\n",
      "1  0  -1  1  0  -1  -1\n"
     ]
    }
   ],
   "source": [
    "g.printBoard()"
   ]
  },
  {
   "cell_type": "code",
   "execution_count": 338,
   "metadata": {
    "collapsed": true
   },
   "outputs": [],
   "source": [
    "turn = YELLOW if turn == RED else RED"
   ]
  },
  {
   "cell_type": "code",
   "execution_count": 339,
   "metadata": {
    "collapsed": true
   },
   "outputs": [],
   "source": [
    "g.insert(int(6), turn)\n",
    "turn = YELLOW if turn == RED else RED"
   ]
  },
  {
   "cell_type": "code",
   "execution_count": 340,
   "metadata": {
    "collapsed": false
   },
   "outputs": [
    {
     "name": "stdout",
     "output_type": "stream",
     "text": [
      "0  0  0  0  0  1  0\n",
      "1  0  -1  1  0  -1  -1\n",
      "-1  0  1  -1  0  -1  1\n",
      "1  0  -1  -1  0  -1  -1\n",
      "1  0  1  1  0  1  1\n",
      "1  0  -1  1  0  -1  -1\n"
     ]
    }
   ],
   "source": [
    "g.printBoard()"
   ]
  },
  {
   "cell_type": "code",
   "execution_count": null,
   "metadata": {
    "collapsed": true
   },
   "outputs": [],
   "source": []
  }
 ],
 "metadata": {
  "anaconda-cloud": {},
  "kernelspec": {
   "display_name": "Python [conda root]",
   "language": "python",
   "name": "conda-root-py"
  },
  "language_info": {
   "codemirror_mode": {
    "name": "ipython",
    "version": 2
   },
   "file_extension": ".py",
   "mimetype": "text/x-python",
   "name": "python",
   "nbconvert_exporter": "python",
   "pygments_lexer": "ipython2",
   "version": "2.7.12"
  }
 },
 "nbformat": 4,
 "nbformat_minor": 1
}
